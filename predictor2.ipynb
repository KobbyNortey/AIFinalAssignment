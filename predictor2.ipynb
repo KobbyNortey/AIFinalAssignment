{
 "cells": [
  {
   "cell_type": "code",
   "id": "initial_id",
   "metadata": {
    "collapsed": true
   },
   "source": [
    "import pandas as pd\n",
    "import numpy as np\n",
    "from keras import Model\n",
    "from sklearn.model_selection import train_test_split\n",
    "from sklearn.preprocessing import StandardScaler, LabelEncoder, MinMaxScaler\n",
    "from sklearn.linear_model import LinearRegression\n",
    "from sklearn.ensemble import RandomForestRegressor, GradientBoostingRegressor\n",
    "from sklearn.svm import SVR\n",
    "from sklearn.neighbors import KNeighborsRegressor\n",
    "from sklearn.metrics import mean_absolute_error, mean_squared_error\n",
    "import matplotlib.pyplot as plt\n",
    "import xgboost as xgb\n",
    "from tensorflow.keras.models import Sequential\n",
    "from tensorflow.keras.layers import LSTM, Dense, Dropout\n",
    "from tensorflow.keras.layers import Input, LayerNormalization, MultiHeadAttention\n",
    "import joblib\n"
   ],
   "outputs": [],
   "execution_count": null
  },
  {
   "metadata": {},
   "cell_type": "code",
   "source": [
    "\n",
    "# Load the CSV file\n",
    "file_path = 'Datasets/FedCycleData071012 (2).csv'\n",
    "data = pd.read_csv(file_path)\n"
   ],
   "id": "5334f2ea2542b3b8",
   "outputs": [],
   "execution_count": null
  },
  {
   "metadata": {},
   "cell_type": "code",
   "source": [
    "\n",
    "# Remove columns with majority N/A values\n",
    "threshold = 0.5\n",
    "data_cleaned = data.loc[:, data.isnull().mean() < threshold]\n"
   ],
   "id": "9aaec6f862caa7d9",
   "outputs": [],
   "execution_count": null
  },
  {
   "metadata": {},
   "cell_type": "code",
   "source": [
    "\n",
    "# Fill missing values\n",
    "for column in data_cleaned.columns:\n",
    "    if data_cleaned[column].dtype == 'object':\n",
    "        data_cleaned[column].fillna(data_cleaned[column].mode()[0], inplace=True)\n",
    "    else:\n",
    "        data_cleaned[column].fillna(data_cleaned[column].median(), inplace=True)\n",
    "\n",
    "# Encode categorical variables\n",
    "label_encoders = {}\n",
    "for column in data_cleaned.select_dtypes(include=['object']).columns:\n",
    "    le = LabelEncoder()\n",
    "    data_cleaned[column] = le.fit_transform(data_cleaned[column])\n",
    "    label_encoders[column] = le\n",
    "\n",
    "# Normalize numerical features\n",
    "scaler = StandardScaler()\n",
    "numerical_columns = data_cleaned.select_dtypes(include=['float64', 'int64']).columns\n",
    "data_cleaned[numerical_columns] = scaler.fit_transform(data_cleaned[numerical_columns])"
   ],
   "id": "25e1cf21cf5f184a",
   "outputs": [],
   "execution_count": null
  },
  {
   "metadata": {},
   "cell_type": "code",
   "source": [
    "# Define features and target\n",
    "features = ['Age', 'BMI', 'MeanCycleLength', 'LengthofMenses', 'UnusualBleeding', 'MeanBleedingIntensity']\n",
    "X = data_cleaned[features]\n",
    "y = data_cleaned['LengthofCycle']\n",
    "\n",
    "# Split the data into training and testing sets\n",
    "X_train, X_test, y_train, y_test = train_test_split(X, y, test_size=0.2, random_state=42)\n"
   ],
   "id": "5c02e58205f6e61a",
   "outputs": [],
   "execution_count": null
  },
  {
   "metadata": {},
   "cell_type": "code",
   "source": [
    "# Models and evaluation\n",
    "models = {\n",
    "    'Linear Regression': LinearRegression(),\n",
    "    'Random Forest': RandomForestRegressor(random_state=42),\n",
    "    'SVR': SVR(kernel='rbf'),\n",
    "    'Gradient Boosting': GradientBoostingRegressor(random_state=42),\n",
    "    'XGBoost': xgb.XGBRegressor(random_state=42),\n",
    "    'KNN': KNeighborsRegressor(n_neighbors=5)\n",
    "}\n",
    "\n",
    "for name, model in models.items():\n",
    "    model.fit(X_train, y_train)\n",
    "    predictions = model.predict(X_test)\n",
    "    mae = mean_absolute_error(y_test, predictions)\n",
    "    rmse = mean_squared_error(y_test, predictions, squared=False)\n",
    "    print(f'{name} MAE: {mae}, RMSE: {rmse}')\n"
   ],
   "id": "55b512f34a7f9f5",
   "outputs": [],
   "execution_count": null
  },
  {
   "metadata": {},
   "cell_type": "code",
   "source": [
    "# LSTM Model\n",
    "def create_sequences(features, target, time_steps=5):\n",
    "    X, y = [], []\n",
    "    for i in range(len(features) - time_steps):\n",
    "        X.append(features[i:i + time_steps])\n",
    "        y.append(target[i + time_steps])\n",
    "    return np.array(X), np.array(y)\n",
    "\n",
    "\n",
    "features_scaled = scaler.fit_transform(X)\n",
    "target_scaler = MinMaxScaler()\n",
    "target_scaled = target_scaler.fit_transform(y.values.reshape(-1, 1))"
   ],
   "id": "54d4d7152e36d26b",
   "outputs": [],
   "execution_count": null
  },
  {
   "metadata": {},
   "cell_type": "code",
   "source": [
    "X_seq, y_seq = create_sequences(features_scaled, target_scaled)\n",
    "\n",
    "X_train, X_test, y_train, y_test = train_test_split(X_seq, y_seq, test_size=0.2, random_state=42)"
   ],
   "id": "c77b4ef478cc561c",
   "outputs": [],
   "execution_count": null
  },
  {
   "metadata": {},
   "cell_type": "code",
   "source": [
    "lstm_model = Sequential()\n",
    "lstm_model.add(LSTM(units=50, return_sequences=True, input_shape=(X_train.shape[1], X_train.shape[2])))\n",
    "lstm_model.add(Dropout(0.2))\n",
    "lstm_model.add(LSTM(units=50, return_sequences=False))\n",
    "lstm_model.add(Dropout(0.2))\n",
    "lstm_model.add(Dense(units=1))\n",
    "\n",
    "lstm_model.compile(optimizer='adam', loss='mean_squared_error')\n"
   ],
   "id": "9d6f37add54a0111",
   "outputs": [],
   "execution_count": null
  },
  {
   "metadata": {},
   "cell_type": "code",
   "source": [
    "history = lstm_model.fit(X_train, y_train, epochs=50, batch_size=32, validation_split=0.2)\n",
    "\n",
    "loss = lstm_model.evaluate(X_test, y_test)\n",
    "print(f'LSTM Test Loss: {loss}')\n",
    "\n",
    "y_pred = lstm_model.predict(X_test)\n",
    "y_pred_rescaled = target_scaler.inverse_transform(y_pred)\n",
    "y_test_rescaled = target_scaler.inverse_transform(y_test.reshape(-1, 1))\n"
   ],
   "id": "88a01bd88842419b",
   "outputs": [],
   "execution_count": null
  },
  {
   "metadata": {},
   "cell_type": "code",
   "source": [
    "\n",
    "plt.figure(figsize=(14, 5))\n",
    "plt.plot(y_test_rescaled, label='Actual Cycle Length')\n",
    "plt.plot(y_pred_rescaled, label='Predicted Cycle Length')\n",
    "plt.title('LSTM Model Predictions vs Actual Values')\n",
    "plt.xlabel('Time Step')\n",
    "plt.ylabel('Cycle Length')\n",
    "plt.legend()\n",
    "plt.show()\n"
   ],
   "id": "d1e57a40e2b833ac",
   "outputs": [],
   "execution_count": null
  },
  {
   "metadata": {},
   "cell_type": "code",
   "source": [
    "# Transformer Model\n",
    "def transformer_encoder(inputs, head_size, num_heads, ff_dim, dropout=0):\n",
    "    x = LayerNormalization(epsilon=1e-6)(inputs)\n",
    "    x = MultiHeadAttention(key_dim=head_size, num_heads=num_heads, dropout=dropout)(x, x)\n",
    "    x = Dropout(dropout)(x)\n",
    "    res = x + inputs\n",
    "    x = LayerNormalization(epsilon=1e-6)(res)\n",
    "    x = Dense(ff_dim, activation=\"relu\")(x)\n",
    "    x = Dropout(dropout)(x)\n",
    "    x = Dense(inputs.shape[-1])(x)\n",
    "    return x + res"
   ],
   "id": "1433c4b34b69521e",
   "outputs": [],
   "execution_count": null
  },
  {
   "metadata": {},
   "cell_type": "code",
   "source": [
    "\n",
    "def build_model(input_shape, head_size, num_heads, ff_dim, num_transformer_blocks, mlp_units, dropout=0, mlp_dropout=0):\n",
    "    inputs = Input(shape=input_shape)\n",
    "    x = inputs\n",
    "    for _ in range(num_transformer_blocks):\n",
    "        x = transformer_encoder(x, head_size, num_heads, ff_dim, dropout)\n",
    "    x = LayerNormalization(epsilon=1e-6)(x)\n",
    "    x = Dense(mlp_units, activation=\"relu\")(x)\n",
    "    x = Dropout(mlp_dropout)(x)\n",
    "    x = Dense(mlp_units, activation=\"relu\")(x)\n",
    "    x = Dropout(mlp_dropout)(x)\n",
    "    outputs = Dense(1, activation=\"linear\")(x)\n",
    "    return Model(inputs, outputs)\n"
   ],
   "id": "a70b07086754c392",
   "outputs": [],
   "execution_count": null
  },
  {
   "metadata": {},
   "cell_type": "code",
   "source": [
    "input_shape = (X_train.shape[1], X_train.shape[2])\n",
    "lstm_model = build_model(input_shape, head_size=256, num_heads=4, ff_dim=4, num_transformer_blocks=4, mlp_units=128,\n",
    "                         dropout=0.1, mlp_dropout=0.1)\n",
    "\n",
    "lstm_model.compile(optimizer='adam', loss='mean_squared_error')\n",
    "lstm_model.summary()\n",
    "history = lstm_model.fit(X_train, y_train, epochs=50, batch_size=32, validation_split=0.2)\n",
    "\n",
    "loss = lstm_model.evaluate(X_test, y_test)\n",
    "print(f'Transformer Test Loss: {loss}')\n",
    "\n",
    "y_pred = lstm_model.predict(X_test)\n",
    "y_pred_rescaled = target_scaler.inverse_transform(y_pred.reshape(-1, 1))\n",
    "y_test_rescaled = target_scaler.inverse_transform(y_test.reshape(-1, 1))"
   ],
   "id": "8b28068d17d3f525",
   "outputs": [],
   "execution_count": null
  },
  {
   "metadata": {},
   "cell_type": "code",
   "source": "",
   "id": "dbff3450a37ce169",
   "outputs": [],
   "execution_count": null
  },
  {
   "metadata": {},
   "cell_type": "code",
   "source": [
    "# Save models\n",
    "for name, model in models.items():\n",
    "    joblib.dump(model, f'../AIFinalProject/Models/{name}_model.pkl')\n",
    "\n",
    "joblib.dump(scaler, 'Models/scaler.pkl')\n",
    "joblib.dump(target_scaler, 'Models/target_scaler.pkl')\n",
    "joblib.dump(label_encoders,'Models/label_encoders.pkl')\n",
    "# Save LSTM lstm_model\n",
    "lstm_model.save('../AIFinalProject/Models/lstm_model.keras')\n",
    "\n",
    "print(\"Models and feature names saved successfully.\")"
   ],
   "id": "a400ea57643d4637",
   "outputs": [],
   "execution_count": null
  },
  {
   "metadata": {},
   "cell_type": "code",
   "source": "",
   "id": "e69328c7b930ba69",
   "outputs": [],
   "execution_count": null
  }
 ],
 "metadata": {
  "kernelspec": {
   "display_name": "Python 3",
   "language": "python",
   "name": "python3"
  },
  "language_info": {
   "codemirror_mode": {
    "name": "ipython",
    "version": 2
   },
   "file_extension": ".py",
   "mimetype": "text/x-python",
   "name": "python",
   "nbconvert_exporter": "python",
   "pygments_lexer": "ipython2",
   "version": "2.7.6"
  }
 },
 "nbformat": 4,
 "nbformat_minor": 5
}
